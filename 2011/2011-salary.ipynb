{
 "cells": [
  {
   "cell_type": "code",
   "execution_count": 1,
   "id": "dd23f143-b0c9-4ccd-b132-d9f7a006da09",
   "metadata": {},
   "outputs": [
    {
     "data": {
      "text/html": [
       "<div>\n",
       "<style scoped>\n",
       "    .dataframe tbody tr th:only-of-type {\n",
       "        vertical-align: middle;\n",
       "    }\n",
       "\n",
       "    .dataframe tbody tr th {\n",
       "        vertical-align: top;\n",
       "    }\n",
       "\n",
       "    .dataframe thead th {\n",
       "        text-align: right;\n",
       "    }\n",
       "</style>\n",
       "<table border=\"1\" class=\"dataframe\">\n",
       "  <thead>\n",
       "    <tr style=\"text-align: right;\">\n",
       "      <th></th>\n",
       "      <th>club</th>\n",
       "      <th>last_name</th>\n",
       "      <th>first_name</th>\n",
       "      <th>position</th>\n",
       "      <th>base_salary</th>\n",
       "      <th>guaranteed_compensation</th>\n",
       "    </tr>\n",
       "  </thead>\n",
       "  <tbody>\n",
       "    <tr>\n",
       "      <th>0</th>\n",
       "      <td>COL</td>\n",
       "      <td>Ababio</td>\n",
       "      <td>Eddie</td>\n",
       "      <td>D</td>\n",
       "      <td>32604.0</td>\n",
       "      <td>32604.0</td>\n",
       "    </tr>\n",
       "    <tr>\n",
       "      <th>1</th>\n",
       "      <td>PHI</td>\n",
       "      <td>Adu</td>\n",
       "      <td>Freddy</td>\n",
       "      <td>M</td>\n",
       "      <td>475884.0</td>\n",
       "      <td>594884.0</td>\n",
       "    </tr>\n",
       "    <tr>\n",
       "      <th>2</th>\n",
       "      <td>RSL</td>\n",
       "      <td>Agorsor</td>\n",
       "      <td>Christopher</td>\n",
       "      <td>F</td>\n",
       "      <td>32604.0</td>\n",
       "      <td>32604.0</td>\n",
       "    </tr>\n",
       "    <tr>\n",
       "      <th>3</th>\n",
       "      <td>NY</td>\n",
       "      <td>Agudelo</td>\n",
       "      <td>Juan</td>\n",
       "      <td>F</td>\n",
       "      <td>55000.0</td>\n",
       "      <td>85000.0</td>\n",
       "    </tr>\n",
       "    <tr>\n",
       "      <th>4</th>\n",
       "      <td>KC</td>\n",
       "      <td>Aiyegbusi</td>\n",
       "      <td>Olukorede</td>\n",
       "      <td>D</td>\n",
       "      <td>42000.0</td>\n",
       "      <td>42000.0</td>\n",
       "    </tr>\n",
       "    <tr>\n",
       "      <th>...</th>\n",
       "      <td>...</td>\n",
       "      <td>...</td>\n",
       "      <td>...</td>\n",
       "      <td>...</td>\n",
       "      <td>...</td>\n",
       "      <td>...</td>\n",
       "    </tr>\n",
       "    <tr>\n",
       "      <th>520</th>\n",
       "      <td>CHV</td>\n",
       "      <td>Zemanski</td>\n",
       "      <td>Ben</td>\n",
       "      <td>M</td>\n",
       "      <td>44000.0</td>\n",
       "      <td>44000.0</td>\n",
       "    </tr>\n",
       "    <tr>\n",
       "      <th>521</th>\n",
       "      <td>NE</td>\n",
       "      <td>Zerka</td>\n",
       "      <td>Monsef</td>\n",
       "      <td>M-F</td>\n",
       "      <td>216000.0</td>\n",
       "      <td>226000.0</td>\n",
       "    </tr>\n",
       "    <tr>\n",
       "      <th>522</th>\n",
       "      <td>POR</td>\n",
       "      <td>Zizzo</td>\n",
       "      <td>Sal</td>\n",
       "      <td>F</td>\n",
       "      <td>65000.0</td>\n",
       "      <td>73250.0</td>\n",
       "    </tr>\n",
       "    <tr>\n",
       "      <th>523</th>\n",
       "      <td>SJ</td>\n",
       "      <td>Zura</td>\n",
       "      <td>Edmundo</td>\n",
       "      <td>F</td>\n",
       "      <td>48000.0</td>\n",
       "      <td>48000.0</td>\n",
       "    </tr>\n",
       "    <tr>\n",
       "      <th>524</th>\n",
       "      <td>KC</td>\n",
       "      <td>Zusi</td>\n",
       "      <td>Graham</td>\n",
       "      <td>F-M</td>\n",
       "      <td>42000.0</td>\n",
       "      <td>42000.0</td>\n",
       "    </tr>\n",
       "  </tbody>\n",
       "</table>\n",
       "<p>525 rows × 6 columns</p>\n",
       "</div>"
      ],
      "text/plain": [
       "    club  last_name   first_name position  base_salary  \\\n",
       "0    COL     Ababio        Eddie        D      32604.0   \n",
       "1    PHI        Adu       Freddy        M     475884.0   \n",
       "2    RSL    Agorsor  Christopher        F      32604.0   \n",
       "3     NY    Agudelo         Juan        F      55000.0   \n",
       "4     KC  Aiyegbusi    Olukorede        D      42000.0   \n",
       "..   ...        ...          ...      ...          ...   \n",
       "520  CHV   Zemanski          Ben        M      44000.0   \n",
       "521   NE      Zerka       Monsef      M-F     216000.0   \n",
       "522  POR      Zizzo          Sal        F      65000.0   \n",
       "523   SJ       Zura      Edmundo        F      48000.0   \n",
       "524   KC       Zusi       Graham      F-M      42000.0   \n",
       "\n",
       "     guaranteed_compensation  \n",
       "0                    32604.0  \n",
       "1                   594884.0  \n",
       "2                    32604.0  \n",
       "3                    85000.0  \n",
       "4                    42000.0  \n",
       "..                       ...  \n",
       "520                  44000.0  \n",
       "521                 226000.0  \n",
       "522                  73250.0  \n",
       "523                  48000.0  \n",
       "524                  42000.0  \n",
       "\n",
       "[525 rows x 6 columns]"
      ]
     },
     "execution_count": 1,
     "metadata": {},
     "output_type": "execute_result"
    }
   ],
   "source": [
    "import pandas as pd\n",
    "df = pd.read_csv(r\"C:\\\\Users\\Natan\\\\OneDrive\\\\Documents\\\\Victor-projects\\\\projetos_python\\\\Data_analysis\\\\salaries-mls\\\\2011\\\\mls-salaries-2011.csv\")\n",
    "df"
   ]
  },
  {
   "cell_type": "code",
   "execution_count": 2,
   "id": "b112991f-ebc1-4f94-9c81-966ffd799dfb",
   "metadata": {},
   "outputs": [
    {
     "data": {
      "text/html": [
       "<div>\n",
       "<style scoped>\n",
       "    .dataframe tbody tr th:only-of-type {\n",
       "        vertical-align: middle;\n",
       "    }\n",
       "\n",
       "    .dataframe tbody tr th {\n",
       "        vertical-align: top;\n",
       "    }\n",
       "\n",
       "    .dataframe thead th {\n",
       "        text-align: right;\n",
       "    }\n",
       "</style>\n",
       "<table border=\"1\" class=\"dataframe\">\n",
       "  <thead>\n",
       "    <tr style=\"text-align: right;\">\n",
       "      <th></th>\n",
       "      <th>full_name</th>\n",
       "      <th>base_salary</th>\n",
       "    </tr>\n",
       "  </thead>\n",
       "  <tbody>\n",
       "    <tr>\n",
       "      <th>138</th>\n",
       "      <td>David Beckham LA</td>\n",
       "      <td>5500000.08</td>\n",
       "    </tr>\n",
       "    <tr>\n",
       "      <th>489</th>\n",
       "      <td>Thierry Henry NY</td>\n",
       "      <td>5000000.04</td>\n",
       "    </tr>\n",
       "    <tr>\n",
       "      <th>411</th>\n",
       "      <td>Rafael Marquez NY</td>\n",
       "      <td>4600000.00</td>\n",
       "    </tr>\n",
       "    <tr>\n",
       "      <th>418</th>\n",
       "      <td>Robbie Keane LA</td>\n",
       "      <td>2917241.40</td>\n",
       "    </tr>\n",
       "    <tr>\n",
       "      <th>311</th>\n",
       "      <td>Landon Donovan LA</td>\n",
       "      <td>2300000.00</td>\n",
       "    </tr>\n",
       "    <tr>\n",
       "      <th>...</th>\n",
       "      <td>...</td>\n",
       "      <td>...</td>\n",
       "    </tr>\n",
       "    <tr>\n",
       "      <th>182</th>\n",
       "      <td>Evan Newton HOU</td>\n",
       "      <td>32600.00</td>\n",
       "    </tr>\n",
       "    <tr>\n",
       "      <th>171</th>\n",
       "      <td>Ellis McLoughlin SJ</td>\n",
       "      <td>32600.00</td>\n",
       "    </tr>\n",
       "    <tr>\n",
       "      <th>337</th>\n",
       "      <td>Matt Kassel NY</td>\n",
       "      <td>32600.00</td>\n",
       "    </tr>\n",
       "    <tr>\n",
       "      <th>389</th>\n",
       "      <td>Orr Barouch CHI</td>\n",
       "      <td>32600.00</td>\n",
       "    </tr>\n",
       "    <tr>\n",
       "      <th>417</th>\n",
       "      <td>Richard Sanchez DAL</td>\n",
       "      <td>32600.00</td>\n",
       "    </tr>\n",
       "  </tbody>\n",
       "</table>\n",
       "<p>524 rows × 2 columns</p>\n",
       "</div>"
      ],
      "text/plain": [
       "               full_name  base_salary\n",
       "138     David Beckham LA   5500000.08\n",
       "489     Thierry Henry NY   5000000.04\n",
       "411    Rafael Marquez NY   4600000.00\n",
       "418      Robbie Keane LA   2917241.40\n",
       "311    Landon Donovan LA   2300000.00\n",
       "..                   ...          ...\n",
       "182      Evan Newton HOU     32600.00\n",
       "171  Ellis McLoughlin SJ     32600.00\n",
       "337       Matt Kassel NY     32600.00\n",
       "389      Orr Barouch CHI     32600.00\n",
       "417  Richard Sanchez DAL     32600.00\n",
       "\n",
       "[524 rows x 2 columns]"
      ]
     },
     "execution_count": 2,
     "metadata": {},
     "output_type": "execute_result"
    }
   ],
   "source": [
    "df['full_name'] = df['first_name'] + ' ' + df['last_name'] + ' ' + df['club']\n",
    "df_agrupado = df.groupby('full_name', as_index=False)['base_salary'].max()\n",
    "df_agrupado = df_agrupado.sort_values(by='base_salary', ascending=False)\n",
    "df_agrupado"
   ]
  },
  {
   "cell_type": "code",
   "execution_count": 3,
   "id": "66f09aa2-c1d5-41dd-abf8-cb55152d7534",
   "metadata": {},
   "outputs": [
    {
     "data": {
      "text/plain": [
       "position\n",
       "F      205527.192479\n",
       "M-F    161130.000000\n",
       "M/F    147750.000000\n",
       "M      141482.138208\n",
       "D      118390.593143\n",
       "M-D    102100.505000\n",
       "GK      95816.703860\n",
       "D-M     76770.833333\n",
       "F-M     53875.000000\n",
       "M/D     50000.000000\n",
       "MF      42000.000000\n",
       "Name: base_salary, dtype: float64"
      ]
     },
     "execution_count": 3,
     "metadata": {},
     "output_type": "execute_result"
    }
   ],
   "source": [
    "df_agrupado = df.groupby('position')['base_salary'].mean()\n",
    "df_agrupado.sort_values(ascending=False)"
   ]
  },
  {
   "cell_type": "code",
   "execution_count": 5,
   "id": "0dfaf126-29b9-45bf-9033-0f75c6cd1815",
   "metadata": {},
   "outputs": [
    {
     "data": {
      "text/plain": [
       "club\n",
       "LA      427674.082667\n",
       "NY      405904.485161\n",
       "TFC     175504.064516\n",
       "PHI     119622.583333\n",
       "VAN     118899.902667\n",
       "HOU     117660.618462\n",
       "CHV     115386.689655\n",
       "RSL     113308.884615\n",
       "DC      109588.395185\n",
       "KC      103651.000000\n",
       "CLB     100137.437333\n",
       "NE       99944.555556\n",
       "COL      99715.266667\n",
       "SEA      97844.870968\n",
       "DAL      95461.800000\n",
       "SJ       89679.725517\n",
       "CHI      84610.134667\n",
       "POR      79298.968276\n",
       "TOR      61798.000000\n",
       "POOL     42000.000000\n",
       "Name: base_salary, dtype: float64"
      ]
     },
     "execution_count": 5,
     "metadata": {},
     "output_type": "execute_result"
    }
   ],
   "source": [
    "df_agrupado = df.groupby('club')['base_salary'].mean()\n",
    "df_agrupado.sort_values(ascending=False)"
   ]
  },
  {
   "cell_type": "code",
   "execution_count": 6,
   "id": "52e8e4d9-95f0-40b7-8951-8fc5b6eeea03",
   "metadata": {},
   "outputs": [
    {
     "data": {
      "text/plain": [
       "142840.14405714284"
      ]
     },
     "execution_count": 6,
     "metadata": {},
     "output_type": "execute_result"
    }
   ],
   "source": [
    "df['base_salary'].mean()"
   ]
  },
  {
   "cell_type": "code",
   "execution_count": 7,
   "id": "5ea05518-bdfe-42c3-8224-cef718916465",
   "metadata": {},
   "outputs": [
    {
     "data": {
      "text/plain": [
       "101753.05994219653"
      ]
     },
     "execution_count": 7,
     "metadata": {},
     "output_type": "execute_result"
    }
   ],
   "source": [
    "df_filtered = df[df['base_salary'] < 1500000]\n",
    "df_filtered['base_salary'].mean()"
   ]
  }
 ],
 "metadata": {
  "kernelspec": {
   "display_name": "Python 3 (ipykernel)",
   "language": "python",
   "name": "python3"
  },
  "language_info": {
   "codemirror_mode": {
    "name": "ipython",
    "version": 3
   },
   "file_extension": ".py",
   "mimetype": "text/x-python",
   "name": "python",
   "nbconvert_exporter": "python",
   "pygments_lexer": "ipython3",
   "version": "3.12.3"
  }
 },
 "nbformat": 4,
 "nbformat_minor": 5
}
