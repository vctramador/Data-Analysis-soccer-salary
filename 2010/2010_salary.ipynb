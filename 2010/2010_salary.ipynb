{
 "cells": [
  {
   "cell_type": "code",
   "execution_count": 1,
   "id": "f00982c5-146f-4ce3-9894-201de5f5c1bb",
   "metadata": {
    "scrolled": true
   },
   "outputs": [
    {
     "data": {
      "text/html": [
       "<div>\n",
       "<style scoped>\n",
       "    .dataframe tbody tr th:only-of-type {\n",
       "        vertical-align: middle;\n",
       "    }\n",
       "\n",
       "    .dataframe tbody tr th {\n",
       "        vertical-align: top;\n",
       "    }\n",
       "\n",
       "    .dataframe thead th {\n",
       "        text-align: right;\n",
       "    }\n",
       "</style>\n",
       "<table border=\"1\" class=\"dataframe\">\n",
       "  <thead>\n",
       "    <tr style=\"text-align: right;\">\n",
       "      <th></th>\n",
       "      <th>club</th>\n",
       "      <th>last_name</th>\n",
       "      <th>first_name</th>\n",
       "      <th>position</th>\n",
       "      <th>base_salary</th>\n",
       "      <th>guaranteed_compensation</th>\n",
       "    </tr>\n",
       "  </thead>\n",
       "  <tbody>\n",
       "    <tr>\n",
       "      <th>0</th>\n",
       "      <td>NY</td>\n",
       "      <td>Agudelo</td>\n",
       "      <td>Juan</td>\n",
       "      <td>F</td>\n",
       "      <td>40000.0</td>\n",
       "      <td>70000.0</td>\n",
       "    </tr>\n",
       "    <tr>\n",
       "      <th>1</th>\n",
       "      <td>KC</td>\n",
       "      <td>Aiyegbusi</td>\n",
       "      <td>Olukorede</td>\n",
       "      <td>D</td>\n",
       "      <td>40000.0</td>\n",
       "      <td>40000.0</td>\n",
       "    </tr>\n",
       "    <tr>\n",
       "      <th>2</th>\n",
       "      <td>COL</td>\n",
       "      <td>Akpan</td>\n",
       "      <td>Andre</td>\n",
       "      <td>F</td>\n",
       "      <td>40000.0</td>\n",
       "      <td>65000.0</td>\n",
       "    </tr>\n",
       "    <tr>\n",
       "      <th>3</th>\n",
       "      <td>NY</td>\n",
       "      <td>Albright</td>\n",
       "      <td>Chris</td>\n",
       "      <td>D</td>\n",
       "      <td>84000.0</td>\n",
       "      <td>84000.0</td>\n",
       "    </tr>\n",
       "    <tr>\n",
       "      <th>4</th>\n",
       "      <td>DAL</td>\n",
       "      <td>Alexander</td>\n",
       "      <td>Eric</td>\n",
       "      <td>M</td>\n",
       "      <td>40000.0</td>\n",
       "      <td>40000.0</td>\n",
       "    </tr>\n",
       "    <tr>\n",
       "      <th>...</th>\n",
       "      <td>...</td>\n",
       "      <td>...</td>\n",
       "      <td>...</td>\n",
       "      <td>...</td>\n",
       "      <td>...</td>\n",
       "      <td>...</td>\n",
       "    </tr>\n",
       "    <tr>\n",
       "      <th>406</th>\n",
       "      <td>CHV</td>\n",
       "      <td>Zemanski</td>\n",
       "      <td>Ben</td>\n",
       "      <td>M</td>\n",
       "      <td>40000.0</td>\n",
       "      <td>40000.0</td>\n",
       "    </tr>\n",
       "    <tr>\n",
       "      <th>407</th>\n",
       "      <td>PHI</td>\n",
       "      <td>Zimmerman</td>\n",
       "      <td>Nick</td>\n",
       "      <td>D</td>\n",
       "      <td>40000.0</td>\n",
       "      <td>40000.0</td>\n",
       "    </tr>\n",
       "    <tr>\n",
       "      <th>408</th>\n",
       "      <td>CHV</td>\n",
       "      <td>Zizzo</td>\n",
       "      <td>Sal</td>\n",
       "      <td>F</td>\n",
       "      <td>60000.0</td>\n",
       "      <td>68250.0</td>\n",
       "    </tr>\n",
       "    <tr>\n",
       "      <th>409</th>\n",
       "      <td>CHV</td>\n",
       "      <td>Zotinca</td>\n",
       "      <td>Alex</td>\n",
       "      <td>D</td>\n",
       "      <td>60000.0</td>\n",
       "      <td>60000.0</td>\n",
       "    </tr>\n",
       "    <tr>\n",
       "      <th>410</th>\n",
       "      <td>KC</td>\n",
       "      <td>Zusi</td>\n",
       "      <td>Graham</td>\n",
       "      <td>F-M</td>\n",
       "      <td>40000.0</td>\n",
       "      <td>40000.0</td>\n",
       "    </tr>\n",
       "  </tbody>\n",
       "</table>\n",
       "<p>411 rows × 6 columns</p>\n",
       "</div>"
      ],
      "text/plain": [
       "    club  last_name first_name position  base_salary  guaranteed_compensation\n",
       "0     NY    Agudelo       Juan        F      40000.0                  70000.0\n",
       "1     KC  Aiyegbusi  Olukorede        D      40000.0                  40000.0\n",
       "2    COL      Akpan      Andre        F      40000.0                  65000.0\n",
       "3     NY   Albright      Chris        D      84000.0                  84000.0\n",
       "4    DAL  Alexander       Eric        M      40000.0                  40000.0\n",
       "..   ...        ...        ...      ...          ...                      ...\n",
       "406  CHV   Zemanski        Ben        M      40000.0                  40000.0\n",
       "407  PHI  Zimmerman       Nick        D      40000.0                  40000.0\n",
       "408  CHV      Zizzo        Sal        F      60000.0                  68250.0\n",
       "409  CHV    Zotinca       Alex        D      60000.0                  60000.0\n",
       "410   KC       Zusi     Graham      F-M      40000.0                  40000.0\n",
       "\n",
       "[411 rows x 6 columns]"
      ]
     },
     "execution_count": 1,
     "metadata": {},
     "output_type": "execute_result"
    }
   ],
   "source": [
    "import pandas as pd\n",
    "import pandas as pd\n",
    "df = pd.read_csv(r\"C:\\\\Users\\\\Natan\\\\OneDrive\\\\Documents\\\\Victor-projects\\\\projetos_python\\\\Data_analysis\\\\salaries-mls\\\\2010\\\\mls-salaries-2010.csv\")\n",
    "df"
   ]
  },
  {
   "cell_type": "code",
   "execution_count": 2,
   "id": "c537805d-e9b8-4935-bddf-54acb4854063",
   "metadata": {},
   "outputs": [
    {
     "data": {
      "text/html": [
       "<div>\n",
       "<style scoped>\n",
       "    .dataframe tbody tr th:only-of-type {\n",
       "        vertical-align: middle;\n",
       "    }\n",
       "\n",
       "    .dataframe tbody tr th {\n",
       "        vertical-align: top;\n",
       "    }\n",
       "\n",
       "    .dataframe thead th {\n",
       "        text-align: right;\n",
       "    }\n",
       "</style>\n",
       "<table border=\"1\" class=\"dataframe\">\n",
       "  <thead>\n",
       "    <tr style=\"text-align: right;\">\n",
       "      <th></th>\n",
       "      <th>full_name</th>\n",
       "      <th>base_salary</th>\n",
       "    </tr>\n",
       "  </thead>\n",
       "  <tbody>\n",
       "    <tr>\n",
       "      <th>322</th>\n",
       "      <td>Rafael Marquez NY</td>\n",
       "      <td>5544000.00</td>\n",
       "    </tr>\n",
       "    <tr>\n",
       "      <th>115</th>\n",
       "      <td>David Beckham LA</td>\n",
       "      <td>5500000.08</td>\n",
       "    </tr>\n",
       "    <tr>\n",
       "      <th>379</th>\n",
       "      <td>Thierry Henry NY</td>\n",
       "      <td>5000000.04</td>\n",
       "    </tr>\n",
       "    <tr>\n",
       "      <th>245</th>\n",
       "      <td>Landon Donovan LA</td>\n",
       "      <td>2050000.00</td>\n",
       "    </tr>\n",
       "    <tr>\n",
       "      <th>221</th>\n",
       "      <td>Julian de Guzman TFC</td>\n",
       "      <td>1670796.00</td>\n",
       "    </tr>\n",
       "    <tr>\n",
       "      <th>...</th>\n",
       "      <td>...</td>\n",
       "      <td>...</td>\n",
       "    </tr>\n",
       "    <tr>\n",
       "      <th>276</th>\n",
       "      <td>Michael Stephens LA</td>\n",
       "      <td>40000.00</td>\n",
       "    </tr>\n",
       "    <tr>\n",
       "      <th>27</th>\n",
       "      <td>Andy Najar DC</td>\n",
       "      <td>39000.00</td>\n",
       "    </tr>\n",
       "    <tr>\n",
       "      <th>394</th>\n",
       "      <td>Victor Ulloa DAL</td>\n",
       "      <td>31260.00</td>\n",
       "    </tr>\n",
       "    <tr>\n",
       "      <th>286</th>\n",
       "      <td>Moises Hernandez DAL</td>\n",
       "      <td>31260.00</td>\n",
       "    </tr>\n",
       "    <tr>\n",
       "      <th>94</th>\n",
       "      <td>Conor Shanosky DC</td>\n",
       "      <td>31250.04</td>\n",
       "    </tr>\n",
       "  </tbody>\n",
       "</table>\n",
       "<p>408 rows × 2 columns</p>\n",
       "</div>"
      ],
      "text/plain": [
       "                full_name  base_salary\n",
       "322     Rafael Marquez NY   5544000.00\n",
       "115      David Beckham LA   5500000.08\n",
       "379      Thierry Henry NY   5000000.04\n",
       "245     Landon Donovan LA   2050000.00\n",
       "221  Julian de Guzman TFC   1670796.00\n",
       "..                    ...          ...\n",
       "276   Michael Stephens LA     40000.00\n",
       "27          Andy Najar DC     39000.00\n",
       "394      Victor Ulloa DAL     31260.00\n",
       "286  Moises Hernandez DAL     31260.00\n",
       "94      Conor Shanosky DC     31250.04\n",
       "\n",
       "[408 rows x 2 columns]"
      ]
     },
     "execution_count": 2,
     "metadata": {},
     "output_type": "execute_result"
    }
   ],
   "source": [
    "df['full_name'] = df['first_name'] + ' ' + df['last_name'] + ' ' + df['club']\n",
    "df_agrupado = df.groupby('full_name', as_index=False)['base_salary'].max()\n",
    "df_agrupado = df_agrupado.sort_values(by='base_salary', ascending=False)\n",
    "df_agrupado"
   ]
  },
  {
   "cell_type": "code",
   "execution_count": 3,
   "id": "d393acdf-8602-4b59-844b-ea94740186dc",
   "metadata": {},
   "outputs": [
    {
     "data": {
      "text/plain": [
       "position\n",
       "F      223805.392184\n",
       "M-F    205118.687500\n",
       "M      166180.460656\n",
       "D      132188.186441\n",
       "M-D    103919.333333\n",
       "GK      85948.636364\n",
       "M/F     72000.000000\n",
       "D-M     69611.111111\n",
       "F-M     50000.013333\n",
       "MF      40000.000000\n",
       "Name: base_salary, dtype: float64"
      ]
     },
     "execution_count": 3,
     "metadata": {},
     "output_type": "execute_result"
    }
   ],
   "source": [
    "df_agrupado = df.groupby('position')['base_salary'].mean()\n",
    "df_agrupado.sort_values(ascending=False)"
   ]
  },
  {
   "cell_type": "code",
   "execution_count": 4,
   "id": "b4a8f717-10da-41b8-8970-34903eb8eb2f",
   "metadata": {},
   "outputs": [
    {
     "data": {
      "text/plain": [
       "club\n",
       "NY      516791.108571\n",
       "LA      384392.323200\n",
       "CHI     201508.916667\n",
       "TFC     191444.960000\n",
       "NE      111830.603200\n",
       "SEA     110389.482963\n",
       "HOU     103847.827826\n",
       "KC      103355.120000\n",
       "CLB     103170.086957\n",
       "PHI     103054.873043\n",
       "DC       97728.424615\n",
       "COL      97362.000000\n",
       "SJ       94722.416667\n",
       "RSL      93853.760000\n",
       "DAL      86814.137931\n",
       "CHV      85350.892857\n",
       "Pool     40000.000000\n",
       "Name: base_salary, dtype: float64"
      ]
     },
     "execution_count": 4,
     "metadata": {},
     "output_type": "execute_result"
    }
   ],
   "source": [
    "df_agrupado = df.groupby('club')['base_salary'].mean()\n",
    "df_agrupado.sort_values(ascending=False)"
   ]
  },
  {
   "cell_type": "code",
   "execution_count": 5,
   "id": "68c8f9da-2f18-4426-8432-3c7bd555841d",
   "metadata": {},
   "outputs": [
    {
     "data": {
      "text/plain": [
       "155982.83795620437"
      ]
     },
     "execution_count": 5,
     "metadata": {},
     "output_type": "execute_result"
    }
   ],
   "source": [
    "df['base_salary'].mean()"
   ]
  },
  {
   "cell_type": "code",
   "execution_count": 6,
   "id": "42818733-9516-4592-89be-1472bb962950",
   "metadata": {},
   "outputs": [
    {
     "data": {
      "text/plain": [
       "105491.72908641976"
      ]
     },
     "execution_count": 6,
     "metadata": {},
     "output_type": "execute_result"
    }
   ],
   "source": [
    "df_filtered = df[df['base_salary'] < 1500000]\n",
    "df_filtered['base_salary'].mean()"
   ]
  }
 ],
 "metadata": {
  "kernelspec": {
   "display_name": "Python 3 (ipykernel)",
   "language": "python",
   "name": "python3"
  },
  "language_info": {
   "codemirror_mode": {
    "name": "ipython",
    "version": 3
   },
   "file_extension": ".py",
   "mimetype": "text/x-python",
   "name": "python",
   "nbconvert_exporter": "python",
   "pygments_lexer": "ipython3",
   "version": "3.12.3"
  }
 },
 "nbformat": 4,
 "nbformat_minor": 5
}
