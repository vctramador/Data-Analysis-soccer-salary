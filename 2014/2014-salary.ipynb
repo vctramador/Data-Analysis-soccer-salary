{
 "cells": [
  {
   "cell_type": "code",
   "execution_count": 2,
   "id": "fcc06b8a-1370-4d33-9031-b521baf5b67a",
   "metadata": {},
   "outputs": [
    {
     "data": {
      "text/html": [
       "<div>\n",
       "<style scoped>\n",
       "    .dataframe tbody tr th:only-of-type {\n",
       "        vertical-align: middle;\n",
       "    }\n",
       "\n",
       "    .dataframe tbody tr th {\n",
       "        vertical-align: top;\n",
       "    }\n",
       "\n",
       "    .dataframe thead th {\n",
       "        text-align: right;\n",
       "    }\n",
       "</style>\n",
       "<table border=\"1\" class=\"dataframe\">\n",
       "  <thead>\n",
       "    <tr style=\"text-align: right;\">\n",
       "      <th></th>\n",
       "      <th>club</th>\n",
       "      <th>last_name</th>\n",
       "      <th>first_name</th>\n",
       "      <th>position</th>\n",
       "      <th>base_salary</th>\n",
       "      <th>guaranteed_compensation</th>\n",
       "    </tr>\n",
       "  </thead>\n",
       "  <tbody>\n",
       "    <tr>\n",
       "      <th>0</th>\n",
       "      <td>DAL</td>\n",
       "      <td>Acosta</td>\n",
       "      <td>Kellyn</td>\n",
       "      <td>M</td>\n",
       "      <td>55000.0</td>\n",
       "      <td>79000.00</td>\n",
       "    </tr>\n",
       "    <tr>\n",
       "      <th>1</th>\n",
       "      <td>VAN</td>\n",
       "      <td>Adekugbe</td>\n",
       "      <td>Samuel</td>\n",
       "      <td>D</td>\n",
       "      <td>50000.0</td>\n",
       "      <td>55000.00</td>\n",
       "    </tr>\n",
       "    <tr>\n",
       "      <th>2</th>\n",
       "      <td>POR</td>\n",
       "      <td>Adi</td>\n",
       "      <td>Fanendo</td>\n",
       "      <td>F</td>\n",
       "      <td>580800.0</td>\n",
       "      <td>593300.00</td>\n",
       "    </tr>\n",
       "    <tr>\n",
       "      <th>3</th>\n",
       "      <td>COL</td>\n",
       "      <td>Agbossoumonde</td>\n",
       "      <td>Gale</td>\n",
       "      <td>D</td>\n",
       "      <td>48825.0</td>\n",
       "      <td>55491.67</td>\n",
       "    </tr>\n",
       "    <tr>\n",
       "      <th>4</th>\n",
       "      <td>DAL</td>\n",
       "      <td>Akindele</td>\n",
       "      <td>Tesho</td>\n",
       "      <td>F</td>\n",
       "      <td>48500.0</td>\n",
       "      <td>48500.00</td>\n",
       "    </tr>\n",
       "    <tr>\n",
       "      <th>...</th>\n",
       "      <td>...</td>\n",
       "      <td>...</td>\n",
       "      <td>...</td>\n",
       "      <td>...</td>\n",
       "      <td>...</td>\n",
       "      <td>...</td>\n",
       "    </tr>\n",
       "    <tr>\n",
       "      <th>567</th>\n",
       "      <td>POR</td>\n",
       "      <td>Zemanski</td>\n",
       "      <td>Ben</td>\n",
       "      <td>M</td>\n",
       "      <td>80850.0</td>\n",
       "      <td>83350.00</td>\n",
       "    </tr>\n",
       "    <tr>\n",
       "      <th>568</th>\n",
       "      <td>DAL</td>\n",
       "      <td>Zendejas</td>\n",
       "      <td>Alejandro</td>\n",
       "      <td>F</td>\n",
       "      <td>36504.0</td>\n",
       "      <td>53170.67</td>\n",
       "    </tr>\n",
       "    <tr>\n",
       "      <th>569</th>\n",
       "      <td>DAL</td>\n",
       "      <td>Zimmerman</td>\n",
       "      <td>Walker</td>\n",
       "      <td>D</td>\n",
       "      <td>80000.0</td>\n",
       "      <td>160100.00</td>\n",
       "    </tr>\n",
       "    <tr>\n",
       "      <th>570</th>\n",
       "      <td>KC</td>\n",
       "      <td>Zizzo</td>\n",
       "      <td>Sal</td>\n",
       "      <td>F</td>\n",
       "      <td>77000.0</td>\n",
       "      <td>91045.71</td>\n",
       "    </tr>\n",
       "    <tr>\n",
       "      <th>571</th>\n",
       "      <td>KC</td>\n",
       "      <td>Zusi</td>\n",
       "      <td>Graham</td>\n",
       "      <td>F-M</td>\n",
       "      <td>600000.0</td>\n",
       "      <td>631388.89</td>\n",
       "    </tr>\n",
       "  </tbody>\n",
       "</table>\n",
       "<p>572 rows × 6 columns</p>\n",
       "</div>"
      ],
      "text/plain": [
       "    club      last_name first_name position  base_salary  \\\n",
       "0    DAL         Acosta     Kellyn        M      55000.0   \n",
       "1    VAN       Adekugbe     Samuel        D      50000.0   \n",
       "2    POR            Adi    Fanendo        F     580800.0   \n",
       "3    COL  Agbossoumonde       Gale        D      48825.0   \n",
       "4    DAL       Akindele      Tesho        F      48500.0   \n",
       "..   ...            ...        ...      ...          ...   \n",
       "567  POR       Zemanski        Ben        M      80850.0   \n",
       "568  DAL       Zendejas  Alejandro        F      36504.0   \n",
       "569  DAL      Zimmerman     Walker        D      80000.0   \n",
       "570   KC          Zizzo        Sal        F      77000.0   \n",
       "571   KC           Zusi     Graham      F-M     600000.0   \n",
       "\n",
       "     guaranteed_compensation  \n",
       "0                   79000.00  \n",
       "1                   55000.00  \n",
       "2                  593300.00  \n",
       "3                   55491.67  \n",
       "4                   48500.00  \n",
       "..                       ...  \n",
       "567                 83350.00  \n",
       "568                 53170.67  \n",
       "569                160100.00  \n",
       "570                 91045.71  \n",
       "571                631388.89  \n",
       "\n",
       "[572 rows x 6 columns]"
      ]
     },
     "execution_count": 2,
     "metadata": {},
     "output_type": "execute_result"
    }
   ],
   "source": [
    "import pandas as pd\n",
    "df = pd.read_csv(r\"C:\\\\Users\\Natan\\\\OneDrive\\\\Documents\\\\Victor-projects\\\\projetos_python\\\\Data_analysis\\\\salaries-mls\\\\2014\\\\mls-salaries-2014.csv\")\n",
    "df"
   ]
  },
  {
   "cell_type": "code",
   "execution_count": 2,
   "id": "47e01638-c408-4792-8ade-9aec12da0917",
   "metadata": {},
   "outputs": [
    {
     "data": {
      "text/html": [
       "<div>\n",
       "<style scoped>\n",
       "    .dataframe tbody tr th:only-of-type {\n",
       "        vertical-align: middle;\n",
       "    }\n",
       "\n",
       "    .dataframe tbody tr th {\n",
       "        vertical-align: top;\n",
       "    }\n",
       "\n",
       "    .dataframe thead th {\n",
       "        text-align: right;\n",
       "    }\n",
       "</style>\n",
       "<table border=\"1\" class=\"dataframe\">\n",
       "  <thead>\n",
       "    <tr style=\"text-align: right;\">\n",
       "      <th></th>\n",
       "      <th>full_name</th>\n",
       "      <th>base_salary</th>\n",
       "    </tr>\n",
       "  </thead>\n",
       "  <tbody>\n",
       "    <tr>\n",
       "      <th>401</th>\n",
       "      <td>Michael Bradley TOR</td>\n",
       "      <td>6000000.0</td>\n",
       "    </tr>\n",
       "    <tr>\n",
       "      <th>271</th>\n",
       "      <td>Jermain Defoe TOR</td>\n",
       "      <td>6000000.0</td>\n",
       "    </tr>\n",
       "    <tr>\n",
       "      <th>124</th>\n",
       "      <td>Clint Dempsey SEA</td>\n",
       "      <td>4913004.0</td>\n",
       "    </tr>\n",
       "    <tr>\n",
       "      <th>466</th>\n",
       "      <td>Robbie Keane LA</td>\n",
       "      <td>4500000.0</td>\n",
       "    </tr>\n",
       "    <tr>\n",
       "      <th>340</th>\n",
       "      <td>Landon Donovan LA</td>\n",
       "      <td>4250000.0</td>\n",
       "    </tr>\n",
       "    <tr>\n",
       "      <th>...</th>\n",
       "      <td>...</td>\n",
       "      <td>...</td>\n",
       "    </tr>\n",
       "    <tr>\n",
       "      <th>132</th>\n",
       "      <td>Conor Shanosky DC</td>\n",
       "      <td>36500.0</td>\n",
       "    </tr>\n",
       "    <tr>\n",
       "      <th>359</th>\n",
       "      <td>Luis Soffner NE</td>\n",
       "      <td>36500.0</td>\n",
       "    </tr>\n",
       "    <tr>\n",
       "      <th>73</th>\n",
       "      <td>Bradford Jamieson LA</td>\n",
       "      <td>36500.0</td>\n",
       "    </tr>\n",
       "    <tr>\n",
       "      <th>474</th>\n",
       "      <td>Ruben Bover NY</td>\n",
       "      <td>36500.0</td>\n",
       "    </tr>\n",
       "    <tr>\n",
       "      <th>424</th>\n",
       "      <td>Nick Walker DAL</td>\n",
       "      <td>36500.0</td>\n",
       "    </tr>\n",
       "  </tbody>\n",
       "</table>\n",
       "<p>565 rows × 2 columns</p>\n",
       "</div>"
      ],
      "text/plain": [
       "                full_name  base_salary\n",
       "401   Michael Bradley TOR    6000000.0\n",
       "271     Jermain Defoe TOR    6000000.0\n",
       "124     Clint Dempsey SEA    4913004.0\n",
       "466       Robbie Keane LA    4500000.0\n",
       "340     Landon Donovan LA    4250000.0\n",
       "..                    ...          ...\n",
       "132     Conor Shanosky DC      36500.0\n",
       "359       Luis Soffner NE      36500.0\n",
       "73   Bradford Jamieson LA      36500.0\n",
       "474        Ruben Bover NY      36500.0\n",
       "424       Nick Walker DAL      36500.0\n",
       "\n",
       "[565 rows x 2 columns]"
      ]
     },
     "execution_count": 2,
     "metadata": {},
     "output_type": "execute_result"
    }
   ],
   "source": [
    "df['full_name'] = df['first_name'] + ' ' + df['last_name'] + ' ' + df['club']\n",
    "df_agrupado = df.groupby('full_name', as_index=False)['base_salary'].max()\n",
    "df_agrupado = df_agrupado.sort_values(by='base_salary', ascending=False)\n",
    "df_agrupado"
   ]
  },
  {
   "cell_type": "code",
   "execution_count": 3,
   "id": "2ed5c194-1f92-42b5-adc2-d42a2fe5cb14",
   "metadata": {},
   "outputs": [
    {
     "data": {
      "text/plain": [
       "position\n",
       "F-M    382500.000000\n",
       "F      323691.992836\n",
       "M      228262.309834\n",
       "D/M    215000.000000\n",
       "M-F    200143.428571\n",
       "D-M    177800.000000\n",
       "D/F    140000.000000\n",
       "M/F    138750.000000\n",
       "D      129345.806747\n",
       "M-D    117765.000000\n",
       "GK      92487.574426\n",
       "M/D     75441.666667\n",
       "MF      57750.000000\n",
       "F/M     51150.000000\n",
       "Name: base_salary, dtype: float64"
      ]
     },
     "execution_count": 3,
     "metadata": {},
     "output_type": "execute_result"
    }
   ],
   "source": [
    "df_agrupado = df.groupby('position')['base_salary'].mean()\n",
    "df_agrupado.sort_values(ascending=False)"
   ]
  },
  {
   "cell_type": "code",
   "execution_count": 3,
   "id": "85dcd1a2-ce06-4362-8a29-44a3d720a0f8",
   "metadata": {},
   "outputs": [
    {
     "data": {
      "text/plain": [
       "club\n",
       "ORL      1.371000e+06\n",
       "TOR      5.409182e+05\n",
       "LA       4.125158e+05\n",
       "NY       3.667432e+05\n",
       "SEA      3.132211e+05\n",
       "NE       2.052559e+05\n",
       "POR      1.821975e+05\n",
       "MTL      1.587786e+05\n",
       "VAN      1.566458e+05\n",
       "HOU      1.548988e+05\n",
       "KC       1.428728e+05\n",
       "SJ       1.364509e+05\n",
       "PHI      1.357700e+05\n",
       "DAL      1.303560e+05\n",
       "RSL      1.302684e+05\n",
       "CHI      1.217154e+05\n",
       "DC       1.157249e+05\n",
       "CHV      1.061183e+05\n",
       "CLB      1.058787e+05\n",
       "COL      1.037083e+05\n",
       "NYCFC    9.170080e+04\n",
       "POOL     3.650400e+04\n",
       "Name: base_salary, dtype: float64"
      ]
     },
     "execution_count": 3,
     "metadata": {},
     "output_type": "execute_result"
    }
   ],
   "source": [
    "df_agrupado = df.groupby('club')['base_salary'].mean()\n",
    "df_agrupado.sort_values(ascending=False)"
   ]
  },
  {
   "cell_type": "code",
   "execution_count": 5,
   "id": "2936077e-46c5-4509-b575-f009caea1f52",
   "metadata": {},
   "outputs": [
    {
     "data": {
      "text/plain": [
       "204007.70118881122"
      ]
     },
     "execution_count": 5,
     "metadata": {},
     "output_type": "execute_result"
    }
   ],
   "source": [
    "df['base_salary'].mean()"
   ]
  },
  {
   "cell_type": "code",
   "execution_count": 4,
   "id": "094a312d-abfc-4ba6-8fdf-5ef0302835d3",
   "metadata": {},
   "outputs": [
    {
     "data": {
      "text/plain": [
       "126558.64720142602"
      ]
     },
     "execution_count": 4,
     "metadata": {},
     "output_type": "execute_result"
    }
   ],
   "source": [
    "df_filtered = df[df['base_salary'] < 1500000]\n",
    "df_filtered['base_salary'].mean()"
   ]
  },
  {
   "cell_type": "code",
   "execution_count": null,
   "id": "a7af2cf9-4ece-4df5-a94a-c33907145c41",
   "metadata": {},
   "outputs": [],
   "source": []
  },
  {
   "cell_type": "code",
   "execution_count": null,
   "id": "85f26651-34d9-4e73-851c-d379005c5893",
   "metadata": {},
   "outputs": [],
   "source": []
  }
 ],
 "metadata": {
  "kernelspec": {
   "display_name": "Python 3 (ipykernel)",
   "language": "python",
   "name": "python3"
  },
  "language_info": {
   "codemirror_mode": {
    "name": "ipython",
    "version": 3
   },
   "file_extension": ".py",
   "mimetype": "text/x-python",
   "name": "python",
   "nbconvert_exporter": "python",
   "pygments_lexer": "ipython3",
   "version": "3.12.3"
  }
 },
 "nbformat": 4,
 "nbformat_minor": 5
}
