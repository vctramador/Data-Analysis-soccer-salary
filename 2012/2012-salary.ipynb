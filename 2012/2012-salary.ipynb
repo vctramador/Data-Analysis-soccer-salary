{
 "cells": [
  {
   "cell_type": "code",
   "execution_count": 1,
   "id": "9530e5a0-54e0-4bdf-954c-69db1d735d4d",
   "metadata": {},
   "outputs": [
    {
     "data": {
      "text/html": [
       "<div>\n",
       "<style scoped>\n",
       "    .dataframe tbody tr th:only-of-type {\n",
       "        vertical-align: middle;\n",
       "    }\n",
       "\n",
       "    .dataframe tbody tr th {\n",
       "        vertical-align: top;\n",
       "    }\n",
       "\n",
       "    .dataframe thead th {\n",
       "        text-align: right;\n",
       "    }\n",
       "</style>\n",
       "<table border=\"1\" class=\"dataframe\">\n",
       "  <thead>\n",
       "    <tr style=\"text-align: right;\">\n",
       "      <th></th>\n",
       "      <th>club</th>\n",
       "      <th>last_name</th>\n",
       "      <th>first_name</th>\n",
       "      <th>position</th>\n",
       "      <th>base_salary</th>\n",
       "      <th>guaranteed_compensation</th>\n",
       "    </tr>\n",
       "  </thead>\n",
       "  <tbody>\n",
       "    <tr>\n",
       "      <th>0</th>\n",
       "      <td>PHI</td>\n",
       "      <td>Adu</td>\n",
       "      <td>Freddy</td>\n",
       "      <td>M</td>\n",
       "      <td>400000.0</td>\n",
       "      <td>519000.00</td>\n",
       "    </tr>\n",
       "    <tr>\n",
       "      <th>1</th>\n",
       "      <td>CHV</td>\n",
       "      <td>Agudelo</td>\n",
       "      <td>Juan</td>\n",
       "      <td>F</td>\n",
       "      <td>70000.0</td>\n",
       "      <td>100000.00</td>\n",
       "    </tr>\n",
       "    <tr>\n",
       "      <th>2</th>\n",
       "      <td>KC</td>\n",
       "      <td>Aiyegbusi</td>\n",
       "      <td>Olukorede</td>\n",
       "      <td>D</td>\n",
       "      <td>44100.0</td>\n",
       "      <td>44100.00</td>\n",
       "    </tr>\n",
       "    <tr>\n",
       "      <th>3</th>\n",
       "      <td>COL</td>\n",
       "      <td>Akpan</td>\n",
       "      <td>Andre</td>\n",
       "      <td>F</td>\n",
       "      <td>57200.0</td>\n",
       "      <td>57200.00</td>\n",
       "    </tr>\n",
       "    <tr>\n",
       "      <th>4</th>\n",
       "      <td>PHI</td>\n",
       "      <td>Albright</td>\n",
       "      <td>Chris</td>\n",
       "      <td>D</td>\n",
       "      <td>55000.0</td>\n",
       "      <td>55000.00</td>\n",
       "    </tr>\n",
       "    <tr>\n",
       "      <th>...</th>\n",
       "      <td>...</td>\n",
       "      <td>...</td>\n",
       "      <td>...</td>\n",
       "      <td>...</td>\n",
       "      <td>...</td>\n",
       "      <td>...</td>\n",
       "    </tr>\n",
       "    <tr>\n",
       "      <th>549</th>\n",
       "      <td>COL</td>\n",
       "      <td>Zapata</td>\n",
       "      <td>Luis</td>\n",
       "      <td>D</td>\n",
       "      <td>65460.0</td>\n",
       "      <td>69043.33</td>\n",
       "    </tr>\n",
       "    <tr>\n",
       "      <th>550</th>\n",
       "      <td>SJ</td>\n",
       "      <td>Zayner</td>\n",
       "      <td>Jed</td>\n",
       "      <td>D</td>\n",
       "      <td>60000.0</td>\n",
       "      <td>61666.67</td>\n",
       "    </tr>\n",
       "    <tr>\n",
       "      <th>551</th>\n",
       "      <td>CHV</td>\n",
       "      <td>Zemanski</td>\n",
       "      <td>Ben</td>\n",
       "      <td>M</td>\n",
       "      <td>57690.0</td>\n",
       "      <td>60190.00</td>\n",
       "    </tr>\n",
       "    <tr>\n",
       "      <th>552</th>\n",
       "      <td>POR</td>\n",
       "      <td>Zizzo</td>\n",
       "      <td>Sal</td>\n",
       "      <td>F</td>\n",
       "      <td>73125.0</td>\n",
       "      <td>81414.06</td>\n",
       "    </tr>\n",
       "    <tr>\n",
       "      <th>553</th>\n",
       "      <td>KC</td>\n",
       "      <td>Zusi</td>\n",
       "      <td>Graham</td>\n",
       "      <td>F-M</td>\n",
       "      <td>105000.0</td>\n",
       "      <td>138812.50</td>\n",
       "    </tr>\n",
       "  </tbody>\n",
       "</table>\n",
       "<p>554 rows × 6 columns</p>\n",
       "</div>"
      ],
      "text/plain": [
       "    club  last_name first_name position  base_salary  guaranteed_compensation\n",
       "0    PHI        Adu     Freddy        M     400000.0                519000.00\n",
       "1    CHV    Agudelo       Juan        F      70000.0                100000.00\n",
       "2     KC  Aiyegbusi  Olukorede        D      44100.0                 44100.00\n",
       "3    COL      Akpan      Andre        F      57200.0                 57200.00\n",
       "4    PHI   Albright      Chris        D      55000.0                 55000.00\n",
       "..   ...        ...        ...      ...          ...                      ...\n",
       "549  COL     Zapata       Luis        D      65460.0                 69043.33\n",
       "550   SJ     Zayner        Jed        D      60000.0                 61666.67\n",
       "551  CHV   Zemanski        Ben        M      57690.0                 60190.00\n",
       "552  POR      Zizzo        Sal        F      73125.0                 81414.06\n",
       "553   KC       Zusi     Graham      F-M     105000.0                138812.50\n",
       "\n",
       "[554 rows x 6 columns]"
      ]
     },
     "execution_count": 1,
     "metadata": {},
     "output_type": "execute_result"
    }
   ],
   "source": [
    "import pandas as pd\n",
    "df = pd.read_csv(r\"C:\\\\Users\\Natan\\\\OneDrive\\\\Documents\\\\Victor-projects\\\\projetos_python\\\\Data_analysis\\\\salaries-mls\\\\2012\\\\mls-salaries-2012.csv\")\n",
    "df"
   ]
  },
  {
   "cell_type": "code",
   "execution_count": 2,
   "id": "05696ee7-45f8-483e-8f90-8ff872e7c276",
   "metadata": {},
   "outputs": [
    {
     "data": {
      "text/html": [
       "<div>\n",
       "<style scoped>\n",
       "    .dataframe tbody tr th:only-of-type {\n",
       "        vertical-align: middle;\n",
       "    }\n",
       "\n",
       "    .dataframe tbody tr th {\n",
       "        vertical-align: top;\n",
       "    }\n",
       "\n",
       "    .dataframe thead th {\n",
       "        text-align: right;\n",
       "    }\n",
       "</style>\n",
       "<table border=\"1\" class=\"dataframe\">\n",
       "  <thead>\n",
       "    <tr style=\"text-align: right;\">\n",
       "      <th></th>\n",
       "      <th>full_name</th>\n",
       "      <th>base_salary</th>\n",
       "    </tr>\n",
       "  </thead>\n",
       "  <tbody>\n",
       "    <tr>\n",
       "      <th>512</th>\n",
       "      <td>Thierry Henry NY</td>\n",
       "      <td>5000000.00</td>\n",
       "    </tr>\n",
       "    <tr>\n",
       "      <th>441</th>\n",
       "      <td>Rafael Marquez NY</td>\n",
       "      <td>4600000.00</td>\n",
       "    </tr>\n",
       "    <tr>\n",
       "      <th>514</th>\n",
       "      <td>Tim Cahill NY</td>\n",
       "      <td>3499999.92</td>\n",
       "    </tr>\n",
       "    <tr>\n",
       "      <th>151</th>\n",
       "      <td>David Beckham LA</td>\n",
       "      <td>3000000.00</td>\n",
       "    </tr>\n",
       "    <tr>\n",
       "      <th>453</th>\n",
       "      <td>Robbie Keane LA</td>\n",
       "      <td>2917241.00</td>\n",
       "    </tr>\n",
       "    <tr>\n",
       "      <th>...</th>\n",
       "      <td>...</td>\n",
       "      <td>...</td>\n",
       "    </tr>\n",
       "    <tr>\n",
       "      <th>466</th>\n",
       "      <td>Ryan Meara NY</td>\n",
       "      <td>33750.00</td>\n",
       "    </tr>\n",
       "    <tr>\n",
       "      <th>465</th>\n",
       "      <td>Ryan Kawulok POR</td>\n",
       "      <td>33750.00</td>\n",
       "    </tr>\n",
       "    <tr>\n",
       "      <th>322</th>\n",
       "      <td>Konrad Warzycha KC</td>\n",
       "      <td>33750.00</td>\n",
       "    </tr>\n",
       "    <tr>\n",
       "      <th>328</th>\n",
       "      <td>Kyle Miller KC</td>\n",
       "      <td>33750.00</td>\n",
       "    </tr>\n",
       "    <tr>\n",
       "      <th>313</th>\n",
       "      <td>Kenny Mansally RSL</td>\n",
       "      <td>33750.00</td>\n",
       "    </tr>\n",
       "  </tbody>\n",
       "</table>\n",
       "<p>550 rows × 2 columns</p>\n",
       "</div>"
      ],
      "text/plain": [
       "              full_name  base_salary\n",
       "512    Thierry Henry NY   5000000.00\n",
       "441   Rafael Marquez NY   4600000.00\n",
       "514       Tim Cahill NY   3499999.92\n",
       "151    David Beckham LA   3000000.00\n",
       "453     Robbie Keane LA   2917241.00\n",
       "..                  ...          ...\n",
       "466       Ryan Meara NY     33750.00\n",
       "465    Ryan Kawulok POR     33750.00\n",
       "322  Konrad Warzycha KC     33750.00\n",
       "328      Kyle Miller KC     33750.00\n",
       "313  Kenny Mansally RSL     33750.00\n",
       "\n",
       "[550 rows x 2 columns]"
      ]
     },
     "execution_count": 2,
     "metadata": {},
     "output_type": "execute_result"
    }
   ],
   "source": [
    "df['full_name'] = df['first_name'] + ' ' + df['last_name'] + ' ' + df['club']\n",
    "df_agrupado = df.groupby('full_name', as_index=False)['base_salary'].max()\n",
    "df_agrupado = df_agrupado.sort_values(by='base_salary', ascending=False)\n",
    "df_agrupado\n"
   ]
  },
  {
   "cell_type": "code",
   "execution_count": 3,
   "id": "483daf0d-e8e1-4da9-82eb-9faaef5a069d",
   "metadata": {},
   "outputs": [
    {
     "data": {
      "text/plain": [
       "position\n",
       "F      222135.738413\n",
       "M-F    189247.727273\n",
       "M      156708.808032\n",
       "D      138713.418723\n",
       "M-D    130625.000000\n",
       "F-M    117500.000000\n",
       "M/F    108499.000000\n",
       "D/F    100000.000000\n",
       "D-M     83753.800000\n",
       "GK      77205.579375\n",
       "D/M     70000.000000\n",
       "M/D     44100.000000\n",
       "MF      44100.000000\n",
       "Name: base_salary, dtype: float64"
      ]
     },
     "execution_count": 3,
     "metadata": {},
     "output_type": "execute_result"
    }
   ],
   "source": [
    "df_agrupado = df.groupby('position')['base_salary'].mean()\n",
    "df_agrupado.sort_values(ascending=False)"
   ]
  },
  {
   "cell_type": "code",
   "execution_count": 4,
   "id": "365ce2af-6d8f-4671-be23-1ff1d377662a",
   "metadata": {},
   "outputs": [
    {
     "data": {
      "text/plain": [
       "club\n",
       "NY      564798.909286\n",
       "LA      349220.032258\n",
       "TOR     202054.185185\n",
       "TFC     187002.000000\n",
       "VAN     162559.498571\n",
       "DAL     162184.968000\n",
       "MTL     123351.892857\n",
       "DC      123345.685714\n",
       "RSL     123337.886154\n",
       "SEA     118430.656250\n",
       "POR     118003.626250\n",
       "CHI     116135.935484\n",
       "COL     111111.570000\n",
       "CHV     108847.428571\n",
       "HOU     107450.594074\n",
       "CLB     103704.466667\n",
       "PHI     102178.788571\n",
       "KC       99781.275862\n",
       "SJ       95938.876333\n",
       "NE       87880.998462\n",
       "POOL     37202.000000\n",
       "Name: base_salary, dtype: float64"
      ]
     },
     "execution_count": 4,
     "metadata": {},
     "output_type": "execute_result"
    }
   ],
   "source": [
    "df_agrupado = df.groupby('club')['base_salary'].mean()\n",
    "df_agrupado.sort_values(ascending=False)"
   ]
  },
  {
   "cell_type": "code",
   "execution_count": 5,
   "id": "73d92bdc-dea2-438a-b3aa-0d5f3fe3d068",
   "metadata": {},
   "outputs": [
    {
     "data": {
      "text/plain": [
       "156124.18424187726"
      ]
     },
     "execution_count": 5,
     "metadata": {},
     "output_type": "execute_result"
    }
   ],
   "source": [
    "df['base_salary'].mean()"
   ]
  },
  {
   "cell_type": "code",
   "execution_count": 6,
   "id": "ac77feef-ef79-48a3-a4a6-9b53052391bc",
   "metadata": {},
   "outputs": [
    {
     "data": {
      "text/plain": [
       "112109.08635531136"
      ]
     },
     "execution_count": 6,
     "metadata": {},
     "output_type": "execute_result"
    }
   ],
   "source": [
    "df_filtered = df[df['base_salary'] < 1500000]\n",
    "df_filtered['base_salary'].mean()"
   ]
  }
 ],
 "metadata": {
  "kernelspec": {
   "display_name": "Python 3 (ipykernel)",
   "language": "python",
   "name": "python3"
  },
  "language_info": {
   "codemirror_mode": {
    "name": "ipython",
    "version": 3
   },
   "file_extension": ".py",
   "mimetype": "text/x-python",
   "name": "python",
   "nbconvert_exporter": "python",
   "pygments_lexer": "ipython3",
   "version": "3.12.3"
  }
 },
 "nbformat": 4,
 "nbformat_minor": 5
}
