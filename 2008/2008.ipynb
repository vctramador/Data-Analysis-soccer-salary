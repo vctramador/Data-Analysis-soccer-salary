{
 "cells": [
  {
   "cell_type": "code",
   "execution_count": 2,
   "id": "7923724d-791f-49fe-a11b-176e8d28bc03",
   "metadata": {},
   "outputs": [
    {
     "data": {
      "text/html": [
       "<div>\n",
       "<style scoped>\n",
       "    .dataframe tbody tr th:only-of-type {\n",
       "        vertical-align: middle;\n",
       "    }\n",
       "\n",
       "    .dataframe tbody tr th {\n",
       "        vertical-align: top;\n",
       "    }\n",
       "\n",
       "    .dataframe thead th {\n",
       "        text-align: right;\n",
       "    }\n",
       "</style>\n",
       "<table border=\"1\" class=\"dataframe\">\n",
       "  <thead>\n",
       "    <tr style=\"text-align: right;\">\n",
       "      <th></th>\n",
       "      <th>club</th>\n",
       "      <th>last_name</th>\n",
       "      <th>first_name</th>\n",
       "      <th>position</th>\n",
       "      <th>base_salary</th>\n",
       "      <th>guaranteed_compensation</th>\n",
       "    </tr>\n",
       "  </thead>\n",
       "  <tbody>\n",
       "    <tr>\n",
       "      <th>0</th>\n",
       "      <td>LA</td>\n",
       "      <td>Adzemian</td>\n",
       "      <td>Vardan</td>\n",
       "      <td>D</td>\n",
       "      <td>12900.0</td>\n",
       "      <td>12900.0</td>\n",
       "    </tr>\n",
       "    <tr>\n",
       "      <th>1</th>\n",
       "      <td>LA</td>\n",
       "      <td>Alamo</td>\n",
       "      <td>Charles</td>\n",
       "      <td>GK</td>\n",
       "      <td>12900.0</td>\n",
       "      <td>12900.0</td>\n",
       "    </tr>\n",
       "    <tr>\n",
       "      <th>2</th>\n",
       "      <td>NE</td>\n",
       "      <td>Albright</td>\n",
       "      <td>Chris</td>\n",
       "      <td>D</td>\n",
       "      <td>160000.0</td>\n",
       "      <td>160000.0</td>\n",
       "    </tr>\n",
       "    <tr>\n",
       "      <th>3</th>\n",
       "      <td>HOU</td>\n",
       "      <td>Alcaraz</td>\n",
       "      <td>Johnny</td>\n",
       "      <td>M</td>\n",
       "      <td>12900.0</td>\n",
       "      <td>12900.0</td>\n",
       "    </tr>\n",
       "    <tr>\n",
       "      <th>4</th>\n",
       "      <td>LA</td>\n",
       "      <td>Allen</td>\n",
       "      <td>Ely</td>\n",
       "      <td>F</td>\n",
       "      <td>12900.0</td>\n",
       "      <td>12900.0</td>\n",
       "    </tr>\n",
       "    <tr>\n",
       "      <th>...</th>\n",
       "      <td>...</td>\n",
       "      <td>...</td>\n",
       "      <td>...</td>\n",
       "      <td>...</td>\n",
       "      <td>...</td>\n",
       "      <td>...</td>\n",
       "    </tr>\n",
       "    <tr>\n",
       "      <th>406</th>\n",
       "      <td>DC</td>\n",
       "      <td>Zaher</td>\n",
       "      <td>Mike</td>\n",
       "      <td>D</td>\n",
       "      <td>12900.0</td>\n",
       "      <td>12900.0</td>\n",
       "    </tr>\n",
       "    <tr>\n",
       "      <th>407</th>\n",
       "      <td>COL</td>\n",
       "      <td>Zambrano</td>\n",
       "      <td>Cesar</td>\n",
       "      <td>M</td>\n",
       "      <td>12900.0</td>\n",
       "      <td>12900.0</td>\n",
       "    </tr>\n",
       "    <tr>\n",
       "      <th>408</th>\n",
       "      <td>KC</td>\n",
       "      <td>Zavagnin</td>\n",
       "      <td>Kerry</td>\n",
       "      <td>M</td>\n",
       "      <td>169400.0</td>\n",
       "      <td>169400.0</td>\n",
       "    </tr>\n",
       "    <tr>\n",
       "      <th>409</th>\n",
       "      <td>CLB</td>\n",
       "      <td>Zayner</td>\n",
       "      <td>Jed</td>\n",
       "      <td>D</td>\n",
       "      <td>36300.0</td>\n",
       "      <td>43800.0</td>\n",
       "    </tr>\n",
       "    <tr>\n",
       "      <th>410</th>\n",
       "      <td>CHV</td>\n",
       "      <td>Zotinca</td>\n",
       "      <td>Alex</td>\n",
       "      <td>D</td>\n",
       "      <td>70875.0</td>\n",
       "      <td>72125.0</td>\n",
       "    </tr>\n",
       "  </tbody>\n",
       "</table>\n",
       "<p>411 rows × 6 columns</p>\n",
       "</div>"
      ],
      "text/plain": [
       "    club last_name first_name position  base_salary  guaranteed_compensation\n",
       "0     LA  Adzemian     Vardan        D      12900.0                  12900.0\n",
       "1     LA     Alamo    Charles       GK      12900.0                  12900.0\n",
       "2     NE  Albright      Chris        D     160000.0                 160000.0\n",
       "3    HOU   Alcaraz     Johnny        M      12900.0                  12900.0\n",
       "4     LA     Allen        Ely        F      12900.0                  12900.0\n",
       "..   ...       ...        ...      ...          ...                      ...\n",
       "406   DC     Zaher       Mike        D      12900.0                  12900.0\n",
       "407  COL  Zambrano      Cesar        M      12900.0                  12900.0\n",
       "408   KC  Zavagnin      Kerry        M     169400.0                 169400.0\n",
       "409  CLB    Zayner        Jed        D      36300.0                  43800.0\n",
       "410  CHV   Zotinca       Alex        D      70875.0                  72125.0\n",
       "\n",
       "[411 rows x 6 columns]"
      ]
     },
     "execution_count": 2,
     "metadata": {},
     "output_type": "execute_result"
    }
   ],
   "source": [
    "import pandas as pd\n",
    "df = pd.read_csv(r\"C:\\Users\\\\Natan\\\\OneDrive\\\\Documents\\\\Victor-projects\\\\projetos_python\\\\Data_analysis\\\\salaries-mls\\\\2008\\\\mls-salaries-2008.csv\")\n",
    "df"
   ]
  },
  {
   "cell_type": "code",
   "execution_count": 2,
   "id": "2395eef5-6f5a-4c2c-80cf-214c3b091c15",
   "metadata": {},
   "outputs": [
    {
     "data": {
      "text/html": [
       "<div>\n",
       "<style scoped>\n",
       "    .dataframe tbody tr th:only-of-type {\n",
       "        vertical-align: middle;\n",
       "    }\n",
       "\n",
       "    .dataframe tbody tr th {\n",
       "        vertical-align: top;\n",
       "    }\n",
       "\n",
       "    .dataframe thead th {\n",
       "        text-align: right;\n",
       "    }\n",
       "</style>\n",
       "<table border=\"1\" class=\"dataframe\">\n",
       "  <thead>\n",
       "    <tr style=\"text-align: right;\">\n",
       "      <th></th>\n",
       "      <th>full_name</th>\n",
       "      <th>base_salary</th>\n",
       "    </tr>\n",
       "  </thead>\n",
       "  <tbody>\n",
       "    <tr>\n",
       "      <th>114</th>\n",
       "      <td>David Beckham LA</td>\n",
       "      <td>5500000.08</td>\n",
       "    </tr>\n",
       "    <tr>\n",
       "      <th>100</th>\n",
       "      <td>Cuauhtemoc Blanco CHI</td>\n",
       "      <td>2492316.00</td>\n",
       "    </tr>\n",
       "    <tr>\n",
       "      <th>278</th>\n",
       "      <td>Marcelo Gallardo DC</td>\n",
       "      <td>1500000.00</td>\n",
       "    </tr>\n",
       "    <tr>\n",
       "      <th>235</th>\n",
       "      <td>Juan Pablo Angel NY</td>\n",
       "      <td>1500000.00</td>\n",
       "    </tr>\n",
       "    <tr>\n",
       "      <th>269</th>\n",
       "      <td>Landon Donovan LA</td>\n",
       "      <td>900000.00</td>\n",
       "    </tr>\n",
       "    <tr>\n",
       "      <th>...</th>\n",
       "      <td>...</td>\n",
       "      <td>...</td>\n",
       "    </tr>\n",
       "    <tr>\n",
       "      <th>324</th>\n",
       "      <td>Pat Carroll DC</td>\n",
       "      <td>12900.00</td>\n",
       "    </tr>\n",
       "    <tr>\n",
       "      <th>252</th>\n",
       "      <td>Kevin Burns CLB</td>\n",
       "      <td>12900.00</td>\n",
       "    </tr>\n",
       "    <tr>\n",
       "      <th>141</th>\n",
       "      <td>Ely Allen LA</td>\n",
       "      <td>12900.00</td>\n",
       "    </tr>\n",
       "    <tr>\n",
       "      <th>302</th>\n",
       "      <td>Mike Munoz LA</td>\n",
       "      <td>12900.00</td>\n",
       "    </tr>\n",
       "    <tr>\n",
       "      <th>243</th>\n",
       "      <td>Kasey Keller SEA</td>\n",
       "      <td>NaN</td>\n",
       "    </tr>\n",
       "  </tbody>\n",
       "</table>\n",
       "<p>411 rows × 2 columns</p>\n",
       "</div>"
      ],
      "text/plain": [
       "                 full_name  base_salary\n",
       "114       David Beckham LA   5500000.08\n",
       "100  Cuauhtemoc Blanco CHI   2492316.00\n",
       "278    Marcelo Gallardo DC   1500000.00\n",
       "235    Juan Pablo Angel NY   1500000.00\n",
       "269      Landon Donovan LA    900000.00\n",
       "..                     ...          ...\n",
       "324         Pat Carroll DC     12900.00\n",
       "252        Kevin Burns CLB     12900.00\n",
       "141           Ely Allen LA     12900.00\n",
       "302          Mike Munoz LA     12900.00\n",
       "243       Kasey Keller SEA          NaN\n",
       "\n",
       "[411 rows x 2 columns]"
      ]
     },
     "execution_count": 2,
     "metadata": {},
     "output_type": "execute_result"
    }
   ],
   "source": [
    "df['full_name'] = df['first_name'] + ' ' + df['last_name'] + ' ' + df['club']\n",
    "df_agrupado = df.groupby('full_name', as_index=False)['base_salary'].max()\n",
    "df_agrupado = df_agrupado.sort_values(by='base_salary', ascending=False)\n",
    "df_agrupado"
   ]
  },
  {
   "cell_type": "code",
   "execution_count": 3,
   "id": "331154d4-7158-4c90-ba68-72bdcac42683",
   "metadata": {},
   "outputs": [
    {
     "data": {
      "text/plain": [
       "club\n",
       "LA      260309.809032\n",
       "CHI     156519.532857\n",
       "DC      139863.548387\n",
       "NY      106350.583333\n",
       "TFC      94194.985200\n",
       "KC       89006.884615\n",
       "SJ       88947.694444\n",
       "HOU      85237.748571\n",
       "COL      79956.695862\n",
       "DAL      78863.793103\n",
       "RSL      77538.962857\n",
       "NE       77409.092593\n",
       "CHV      71701.536562\n",
       "CLB      67360.671290\n",
       "SEA      58500.000000\n",
       "Pool     21200.000000\n",
       "Name: base_salary, dtype: float64"
      ]
     },
     "execution_count": 3,
     "metadata": {},
     "output_type": "execute_result"
    }
   ],
   "source": [
    "df_agrupado = df.groupby('club')['base_salary'].mean()\n",
    "df_agrupado.sort_values(ascending=False)"
   ]
  },
  {
   "cell_type": "code",
   "execution_count": 7,
   "id": "3d0f2488-ebcf-49f1-b8b8-9c6fbd505bc1",
   "metadata": {},
   "outputs": [
    {
     "data": {
      "text/plain": [
       "position\n",
       "M     139764.191933\n",
       "F     123219.502791\n",
       "D      69087.578333\n",
       "GK     55478.261667\n",
       "Name: base_salary, dtype: float64"
      ]
     },
     "execution_count": 7,
     "metadata": {},
     "output_type": "execute_result"
    }
   ],
   "source": [
    "df_agrupado = df.groupby('position')['base_salary'].mean()\n",
    "df_agrupado.sort_values(ascending=False)"
   ]
  },
  {
   "cell_type": "code",
   "execution_count": 6,
   "id": "257040d3-ccac-44af-904f-2ccbec51ac40",
   "metadata": {},
   "outputs": [
    {
     "data": {
      "text/plain": [
       "104706.09136585364"
      ]
     },
     "execution_count": 6,
     "metadata": {},
     "output_type": "execute_result"
    }
   ],
   "source": [
    "df['base_salary'].mean()"
   ]
  },
  {
   "cell_type": "code",
   "execution_count": 3,
   "id": "364e2cf0-89d3-4c7a-b4b7-dbd350046ce8",
   "metadata": {},
   "outputs": [
    {
     "data": {
      "text/plain": [
       "78663.00832512316"
      ]
     },
     "execution_count": 3,
     "metadata": {},
     "output_type": "execute_result"
    }
   ],
   "source": [
    "df_filtered = df[df['base_salary'] < 1500000]\n",
    "df_filtered['base_salary'].mean()"
   ]
  }
 ],
 "metadata": {
  "kernelspec": {
   "display_name": "Python 3 (ipykernel)",
   "language": "python",
   "name": "python3"
  },
  "language_info": {
   "codemirror_mode": {
    "name": "ipython",
    "version": 3
   },
   "file_extension": ".py",
   "mimetype": "text/x-python",
   "name": "python",
   "nbconvert_exporter": "python",
   "pygments_lexer": "ipython3",
   "version": "3.12.3"
  }
 },
 "nbformat": 4,
 "nbformat_minor": 5
}
